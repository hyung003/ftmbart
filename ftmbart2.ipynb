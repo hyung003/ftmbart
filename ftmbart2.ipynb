{
 "cells": [
  {
   "cell_type": "code",
   "execution_count": 1,
   "id": "6f0a23dc-c444-4d3a-aa73-ecd2b4e68a66",
   "metadata": {
    "tags": []
   },
   "outputs": [
    {
     "name": "stderr",
     "output_type": "stream",
     "text": [
      "2025-08-04 05:59:32.149574: E external/local_xla/xla/stream_executor/cuda/cuda_dnn.cc:9261] Unable to register cuDNN factory: Attempting to register factory for plugin cuDNN when one has already been registered\n",
      "2025-08-04 05:59:32.149671: E external/local_xla/xla/stream_executor/cuda/cuda_fft.cc:607] Unable to register cuFFT factory: Attempting to register factory for plugin cuFFT when one has already been registered\n",
      "2025-08-04 05:59:32.150883: E external/local_xla/xla/stream_executor/cuda/cuda_blas.cc:1515] Unable to register cuBLAS factory: Attempting to register factory for plugin cuBLAS when one has already been registered\n",
      "2025-08-04 05:59:32.157961: I tensorflow/core/platform/cpu_feature_guard.cc:182] This TensorFlow binary is optimized to use available CPU instructions in performance-critical operations.\n",
      "To enable the following instructions: AVX2 FMA, in other operations, rebuild TensorFlow with the appropriate compiler flags.\n",
      "2025-08-04 05:59:32.930580: W tensorflow/compiler/tf2tensorrt/utils/py_utils.cc:38] TF-TRT Warning: Could not find TensorRT\n"
     ]
    }
   ],
   "source": [
    "import os\n",
    "import random\n",
    "import numpy as np\n",
    "from dataclasses import dataclass, field\n",
    "from typing import Optional, Dict\n",
    "\n",
    "import torch\n",
    "from datasets import load_dataset, Dataset, concatenate_datasets\n",
    "from transformers import (\n",
    "    MBartForConditionalGeneration,\n",
    "    MBart50TokenizerFast,\n",
    "    Seq2SeqTrainer,\n",
    "    Seq2SeqTrainingArguments,\n",
    "    DataCollatorForSeq2Seq,\n",
    ")\n",
    "#import evaluate"
   ]
  },
  {
   "cell_type": "code",
   "execution_count": 2,
   "id": "21dfd71b-25cc-49a3-811d-7669e9e40d65",
   "metadata": {
    "tags": []
   },
   "outputs": [
    {
     "name": "stdout",
     "output_type": "stream",
     "text": [
      "EN-ES train 2500 val 500\n",
      "EN-VI train 2500 val 500\n"
     ]
    }
   ],
   "source": [
    "# Load English→Spanish and English→Vietnamese from OPUS100\n",
    "ds_en_es = load_dataset(\"opus100\", \"en-es\")  # contains train/validation/test splits\n",
    "ds_en_vi = load_dataset(\"opus100\", \"en-vi\")\n",
    "\n",
    "# For speed, take small slices: e.g., 2500 train, 500 val each\n",
    "def small_split(ds, train_n=2500, val_n=500, seed=42):\n",
    "    # `train` split exists; shuffle then select\n",
    "    train_full = ds[\"train\"].shuffle(seed=seed)\n",
    "    selected = train_full.select(range(train_n + val_n))\n",
    "    train = selected.select(range(train_n))\n",
    "    val = selected.select(range(train_n, train_n + val_n))\n",
    "    return train, val\n",
    "\n",
    "es_train, es_val = small_split(ds_en_es)\n",
    "vi_train, vi_val = small_split(ds_en_vi)\n",
    "\n",
    "print(f\"EN-ES train {len(es_train)} val {len(es_val)}\")\n",
    "print(f\"EN-VI train {len(vi_train)} val {len(vi_val)}\")"
   ]
  },
  {
   "cell_type": "code",
   "execution_count": 3,
   "id": "e8638218-d933-48ae-a3b6-a840e57f8c65",
   "metadata": {
    "tags": []
   },
   "outputs": [],
   "source": [
    "MODEL_NAME = \"facebook/mbart-large-50\"\n",
    "\n",
    "# EN→ES\n",
    "tokenizer_es = MBart50TokenizerFast.from_pretrained(MODEL_NAME)\n",
    "model_es = MBartForConditionalGeneration.from_pretrained(MODEL_NAME)\n",
    "\n",
    "# EN→VI\n",
    "tokenizer_vi = MBart50TokenizerFast.from_pretrained(MODEL_NAME)\n",
    "model_vi = MBartForConditionalGeneration.from_pretrained(MODEL_NAME)"
   ]
  },
  {
   "cell_type": "code",
   "execution_count": 4,
   "id": "2f3b7e1e-3d53-4cac-b521-8ca9c0123ff2",
   "metadata": {
    "tags": []
   },
   "outputs": [],
   "source": [
    "MAX_LEN = 128\n",
    "\n",
    "def preprocess_pair(dataset, src_lang_code, tgt_lang_code, tokenizer):\n",
    "    # We keep batched=True and handle lists inside the function\n",
    "    def fn(example):\n",
    "        # example[\"translation\"] is a list of dicts when batched\n",
    "        srcs = [t[src_lang_code] for t in example[\"translation\"]]\n",
    "        tgts = [t[tgt_lang_code] for t in example[\"translation\"]]\n",
    "\n",
    "        # Set language codes on tokenizer\n",
    "        tokenizer.src_lang = src_lang_code\n",
    "        tokenizer.tgt_lang = tgt_lang_code\n",
    "\n",
    "        inputs = tokenizer(srcs, max_length=MAX_LEN, truncation=True, padding=\"max_length\")\n",
    "        with tokenizer.as_target_tokenizer():\n",
    "            labels = tokenizer(tgts, max_length=MAX_LEN, truncation=True, padding=\"max_length\")\n",
    "\n",
    "        # Replace pad token id with -100 for loss\n",
    "        label_ids = [\n",
    "            [(l if l != tokenizer.pad_token_id else -100) for l in label_seq]\n",
    "            for label_seq in labels[\"input_ids\"]\n",
    "        ]\n",
    "\n",
    "        return {\n",
    "            \"input_ids\": inputs[\"input_ids\"],\n",
    "            \"attention_mask\": inputs[\"attention_mask\"],\n",
    "            \"labels\": label_ids,\n",
    "        }\n",
    "\n",
    "    return dataset.map(fn, batched=True, remove_columns=[\"translation\"])\n",
    "    \n",
    "# Apply to data\n",
    "tokenized_es_train = preprocess_pair(es_train, \"en\", \"es\", tokenizer_es)\n",
    "tokenized_es_val = preprocess_pair(es_val, \"en\", \"es\", tokenizer_es)\n",
    "\n",
    "tokenized_vi_train = preprocess_pair(vi_train, \"en\", \"vi\", tokenizer_vi)\n",
    "tokenized_vi_val = preprocess_pair(vi_val, \"en\", \"vi\", tokenizer_vi)"
   ]
  },
  {
   "cell_type": "code",
   "execution_count": 5,
   "id": "6fd3b1cc-e2c3-4a9d-a3c4-2c19fb20be7d",
   "metadata": {
    "tags": []
   },
   "outputs": [
    {
     "name": "stdout",
     "output_type": "stream",
     "text": [
      "Requirement already satisfied: bert_score in /usr/local/lib/python3.11/dist-packages (0.3.13)\n",
      "Requirement already satisfied: torch>=1.0.0 in /usr/local/lib/python3.11/dist-packages (from bert_score) (2.1.1+cu121)\n",
      "Requirement already satisfied: pandas>=1.0.1 in /usr/local/lib/python3.11/dist-packages (from bert_score) (2.2.0)\n",
      "Requirement already satisfied: transformers>=3.0.0 in /usr/local/lib/python3.11/dist-packages (from bert_score) (4.35.2)\n",
      "Requirement already satisfied: numpy in /usr/local/lib/python3.11/dist-packages (from bert_score) (1.26.3)\n",
      "Requirement already satisfied: requests in /usr/local/lib/python3.11/dist-packages (from bert_score) (2.31.0)\n",
      "Requirement already satisfied: tqdm>=4.31.1 in /usr/local/lib/python3.11/dist-packages (from bert_score) (4.66.1)\n",
      "Requirement already satisfied: matplotlib in /usr/local/lib/python3.11/dist-packages (from bert_score) (3.7.3)\n",
      "Requirement already satisfied: packaging>=20.9 in /usr/local/lib/python3.11/dist-packages (from bert_score) (23.2)\n",
      "Requirement already satisfied: python-dateutil>=2.8.2 in /usr/local/lib/python3.11/dist-packages (from pandas>=1.0.1->bert_score) (2.8.2)\n",
      "Requirement already satisfied: pytz>=2020.1 in /usr/lib/python3/dist-packages (from pandas>=1.0.1->bert_score) (2022.1)\n",
      "Requirement already satisfied: tzdata>=2022.7 in /usr/local/lib/python3.11/dist-packages (from pandas>=1.0.1->bert_score) (2023.4)\n",
      "Requirement already satisfied: filelock in /usr/local/lib/python3.11/dist-packages (from torch>=1.0.0->bert_score) (3.13.1)\n",
      "Requirement already satisfied: typing-extensions in /usr/local/lib/python3.11/dist-packages (from torch>=1.0.0->bert_score) (4.9.0)\n",
      "Requirement already satisfied: sympy in /usr/local/lib/python3.11/dist-packages (from torch>=1.0.0->bert_score) (1.12)\n",
      "Requirement already satisfied: networkx in /usr/local/lib/python3.11/dist-packages (from torch>=1.0.0->bert_score) (3.2.1)\n",
      "Requirement already satisfied: jinja2 in /usr/local/lib/python3.11/dist-packages (from torch>=1.0.0->bert_score) (3.1.3)\n",
      "Requirement already satisfied: fsspec in /usr/local/lib/python3.11/dist-packages (from torch>=1.0.0->bert_score) (2023.6.0)\n",
      "Requirement already satisfied: triton==2.1.0 in /usr/local/lib/python3.11/dist-packages (from torch>=1.0.0->bert_score) (2.1.0)\n",
      "Requirement already satisfied: huggingface-hub<1.0,>=0.16.4 in /usr/local/lib/python3.11/dist-packages (from transformers>=3.0.0->bert_score) (0.20.3)\n",
      "Requirement already satisfied: pyyaml>=5.1 in /usr/lib/python3/dist-packages (from transformers>=3.0.0->bert_score) (5.4.1)\n",
      "Requirement already satisfied: regex!=2019.12.17 in /usr/local/lib/python3.11/dist-packages (from transformers>=3.0.0->bert_score) (2023.12.25)\n",
      "Requirement already satisfied: tokenizers<0.19,>=0.14 in /usr/local/lib/python3.11/dist-packages (from transformers>=3.0.0->bert_score) (0.15.1)\n",
      "Requirement already satisfied: safetensors>=0.3.1 in /usr/local/lib/python3.11/dist-packages (from transformers>=3.0.0->bert_score) (0.4.0)\n",
      "Requirement already satisfied: contourpy>=1.0.1 in /usr/local/lib/python3.11/dist-packages (from matplotlib->bert_score) (1.2.0)\n",
      "Requirement already satisfied: cycler>=0.10 in /usr/local/lib/python3.11/dist-packages (from matplotlib->bert_score) (0.12.1)\n",
      "Requirement already satisfied: fonttools>=4.22.0 in /usr/local/lib/python3.11/dist-packages (from matplotlib->bert_score) (4.47.2)\n",
      "Requirement already satisfied: kiwisolver>=1.0.1 in /usr/local/lib/python3.11/dist-packages (from matplotlib->bert_score) (1.4.5)\n",
      "Requirement already satisfied: pillow>=6.2.0 in /usr/local/lib/python3.11/dist-packages (from matplotlib->bert_score) (9.5.0)\n",
      "Requirement already satisfied: pyparsing>=2.3.1 in /usr/lib/python3/dist-packages (from matplotlib->bert_score) (2.4.7)\n",
      "Requirement already satisfied: charset-normalizer<4,>=2 in /usr/local/lib/python3.11/dist-packages (from requests->bert_score) (3.3.2)\n",
      "Requirement already satisfied: idna<4,>=2.5 in /usr/lib/python3/dist-packages (from requests->bert_score) (3.3)\n",
      "Requirement already satisfied: urllib3<3,>=1.21.1 in /usr/local/lib/python3.11/dist-packages (from requests->bert_score) (2.0.7)\n",
      "Requirement already satisfied: certifi>=2017.4.17 in /usr/lib/python3/dist-packages (from requests->bert_score) (2020.6.20)\n",
      "Requirement already satisfied: six>=1.5 in /usr/lib/python3/dist-packages (from python-dateutil>=2.8.2->pandas>=1.0.1->bert_score) (1.16.0)\n",
      "Requirement already satisfied: MarkupSafe>=2.0 in /usr/local/lib/python3.11/dist-packages (from jinja2->torch>=1.0.0->bert_score) (2.1.4)\n",
      "Requirement already satisfied: mpmath>=0.19 in /usr/local/lib/python3.11/dist-packages (from sympy->torch>=1.0.0->bert_score) (1.3.0)\n",
      "\u001b[33mWARNING: Running pip as the 'root' user can result in broken permissions and conflicting behaviour with the system package manager. It is recommended to use a virtual environment instead: https://pip.pypa.io/warnings/venv\u001b[0m\u001b[33m\n",
      "\u001b[0m"
     ]
    }
   ],
   "source": [
    "!pip install bert_score"
   ]
  },
  {
   "cell_type": "code",
   "execution_count": 6,
   "id": "bb25716f-8c69-4daf-a059-9a94d4f29451",
   "metadata": {
    "tags": []
   },
   "outputs": [],
   "source": [
    "from bert_score import score  # the function\n"
   ]
  },
  {
   "cell_type": "code",
   "execution_count": 7,
   "id": "13f9673d-8dc0-4230-a7fa-177a284e0ee4",
   "metadata": {
    "tags": []
   },
   "outputs": [],
   "source": [
    "def make_bertscore_fn(tokenizer, tgt_lang_code):\n",
    "    device = \"cuda\" if torch.cuda.is_available() else \"cpu\"\n",
    "    def compute_metrics(eval_pred):\n",
    "        preds, labels = eval_pred\n",
    "        if isinstance(preds, tuple):\n",
    "            preds = preds[0]\n",
    "        decoded_preds = tokenizer.batch_decode(preds, skip_special_tokens=True)\n",
    "        labels = np.where(labels != -100, labels, tokenizer.pad_token_id)\n",
    "        decoded_labels = tokenizer.batch_decode(labels, skip_special_tokens=True)\n",
    "        P, R, F1 = score(decoded_preds, decoded_labels, lang=tgt_lang_code, device=device, verbose=False)\n",
    "        return {\n",
    "            \"bertscore_f1\": float(F1.mean()),\n",
    "            \"bertscore_precision\": float(P.mean()),\n",
    "            \"bertscore_recall\": float(R.mean()),\n",
    "        }\n",
    "    return compute_metrics\n"
   ]
  },
  {
   "cell_type": "code",
   "execution_count": 8,
   "id": "2b0f9d29-3b3e-46b9-9240-53657138e53c",
   "metadata": {
    "tags": []
   },
   "outputs": [
    {
     "name": "stderr",
     "output_type": "stream",
     "text": [
      "You're using a MBart50TokenizerFast tokenizer. Please note that with a fast tokenizer, using the `__call__` method is faster than using a method to encode the text followed by a call to the `pad` method to get a padded encoding.\n"
     ]
    },
    {
     "data": {
      "text/html": [
       "\n",
       "    <div>\n",
       "      \n",
       "      <progress value='3125' max='3125' style='width:300px; height:20px; vertical-align: middle;'></progress>\n",
       "      [3125/3125 23:59, Epoch 5/5]\n",
       "    </div>\n",
       "    <table border=\"1\" class=\"dataframe\">\n",
       "  <thead>\n",
       " <tr style=\"text-align: left;\">\n",
       "      <th>Step</th>\n",
       "      <th>Training Loss</th>\n",
       "      <th>Validation Loss</th>\n",
       "      <th>Bertscore F1</th>\n",
       "      <th>Bertscore Precision</th>\n",
       "      <th>Bertscore Recall</th>\n",
       "    </tr>\n",
       "  </thead>\n",
       "  <tbody>\n",
       "    <tr>\n",
       "      <td>500</td>\n",
       "      <td>2.626700</td>\n",
       "      <td>2.231945</td>\n",
       "      <td>0.826539</td>\n",
       "      <td>0.831860</td>\n",
       "      <td>0.822071</td>\n",
       "    </tr>\n",
       "    <tr>\n",
       "      <td>1000</td>\n",
       "      <td>1.322600</td>\n",
       "      <td>2.006746</td>\n",
       "      <td>0.852898</td>\n",
       "      <td>0.857851</td>\n",
       "      <td>0.848670</td>\n",
       "    </tr>\n",
       "    <tr>\n",
       "      <td>1500</td>\n",
       "      <td>0.903400</td>\n",
       "      <td>2.200711</td>\n",
       "      <td>0.849209</td>\n",
       "      <td>0.851600</td>\n",
       "      <td>0.847492</td>\n",
       "    </tr>\n",
       "    <tr>\n",
       "      <td>2000</td>\n",
       "      <td>0.500300</td>\n",
       "      <td>2.419944</td>\n",
       "      <td>0.850243</td>\n",
       "      <td>0.852470</td>\n",
       "      <td>0.848694</td>\n",
       "    </tr>\n",
       "    <tr>\n",
       "      <td>2500</td>\n",
       "      <td>6.644200</td>\n",
       "      <td>2.467292</td>\n",
       "      <td>0.847497</td>\n",
       "      <td>0.852006</td>\n",
       "      <td>0.843738</td>\n",
       "    </tr>\n",
       "    <tr>\n",
       "      <td>3000</td>\n",
       "      <td>0.273200</td>\n",
       "      <td>2.571812</td>\n",
       "      <td>0.851320</td>\n",
       "      <td>0.853766</td>\n",
       "      <td>0.849530</td>\n",
       "    </tr>\n",
       "  </tbody>\n",
       "</table><p>"
      ],
      "text/plain": [
       "<IPython.core.display.HTML object>"
      ]
     },
     "metadata": {},
     "output_type": "display_data"
    },
    {
     "data": {
      "application/vnd.jupyter.widget-view+json": {
       "model_id": "f2817292af6a433bbc05c5b44ec0b27d",
       "version_major": 2,
       "version_minor": 0
      },
      "text/plain": [
       "tokenizer_config.json:   0%|          | 0.00/49.0 [00:00<?, ?B/s]"
      ]
     },
     "metadata": {},
     "output_type": "display_data"
    },
    {
     "data": {
      "application/vnd.jupyter.widget-view+json": {
       "model_id": "a84a7fcb9be54060a3146ab500297c8c",
       "version_major": 2,
       "version_minor": 0
      },
      "text/plain": [
       "config.json:   0%|          | 0.00/625 [00:00<?, ?B/s]"
      ]
     },
     "metadata": {},
     "output_type": "display_data"
    },
    {
     "data": {
      "application/vnd.jupyter.widget-view+json": {
       "model_id": "e4a6e819e8ca44c8a46fd8570457e85b",
       "version_major": 2,
       "version_minor": 0
      },
      "text/plain": [
       "vocab.txt:   0%|          | 0.00/996k [00:00<?, ?B/s]"
      ]
     },
     "metadata": {},
     "output_type": "display_data"
    },
    {
     "data": {
      "application/vnd.jupyter.widget-view+json": {
       "model_id": "f870caa5d49242f7b282dc130649fd5e",
       "version_major": 2,
       "version_minor": 0
      },
      "text/plain": [
       "tokenizer.json:   0%|          | 0.00/1.96M [00:00<?, ?B/s]"
      ]
     },
     "metadata": {},
     "output_type": "display_data"
    },
    {
     "data": {
      "application/vnd.jupyter.widget-view+json": {
       "model_id": "3ea00eb779da4e40aa75fd69c92603c4",
       "version_major": 2,
       "version_minor": 0
      },
      "text/plain": [
       "model.safetensors:   0%|          | 0.00/714M [00:00<?, ?B/s]"
      ]
     },
     "metadata": {},
     "output_type": "display_data"
    },
    {
     "name": "stderr",
     "output_type": "stream",
     "text": [
      "There were missing keys in the checkpoint model loaded: ['model.encoder.embed_tokens.weight', 'model.decoder.embed_tokens.weight', 'lm_head.weight'].\n"
     ]
    },
    {
     "data": {
      "text/plain": [
       "TrainOutput(global_step=3125, training_loss=1.7962068701171876, metrics={'train_runtime': 1439.6026, 'train_samples_per_second': 8.683, 'train_steps_per_second': 2.171, 'total_flos': 3386140262400000.0, 'train_loss': 1.7962068701171876, 'epoch': 5.0})"
      ]
     },
     "execution_count": 8,
     "metadata": {},
     "output_type": "execute_result"
    }
   ],
   "source": [
    "from transformers import Seq2SeqTrainer, Seq2SeqTrainingArguments\n",
    "import numpy as np\n",
    "from transformers import EarlyStoppingCallback, Seq2SeqTrainer\n",
    "data_collator_es = DataCollatorForSeq2Seq(tokenizer_es, model=model_es)\n",
    "training_args_es = Seq2SeqTrainingArguments(\n",
    "    output_dir=\"mbart50_opus_en_es\",\n",
    "    num_train_epochs=5,\n",
    "    per_device_train_batch_size=4,\n",
    "    per_device_eval_batch_size=4,\n",
    "    learning_rate=3e-5,\n",
    "    evaluation_strategy=\"steps\",\n",
    "    eval_steps=500,\n",
    "    save_strategy=\"steps\",\n",
    "    save_steps=500,\n",
    "    save_total_limit=3,\n",
    "    load_best_model_at_end=True,\n",
    "    metric_for_best_model=\"bertscore_f1\",\n",
    "    greater_is_better=True,\n",
    "    logging_steps=200,\n",
    "    predict_with_generate=True,\n",
    "    fp16=True,\n",
    "    report_to=\"none\",\n",
    ")\n",
    "\n",
    "trainer_es = Seq2SeqTrainer(\n",
    "    model=model_es,\n",
    "    args=training_args_es,\n",
    "    train_dataset=tokenized_es_train,\n",
    "    eval_dataset=tokenized_es_val,\n",
    "    tokenizer=tokenizer_es,\n",
    "    data_collator=data_collator_es,\n",
    "    compute_metrics=make_bertscore_fn(tokenizer_es, \"es\"),\n",
    "    callbacks=[EarlyStoppingCallback(early_stopping_patience=2)],\n",
    ")\n",
    "\n",
    "trainer_es.train()"
   ]
  },
  {
   "cell_type": "code",
   "execution_count": 9,
   "id": "2c24890c-d4bb-4e93-a372-2c9df2eb191b",
   "metadata": {
    "tags": []
   },
   "outputs": [
    {
     "name": "stdout",
     "output_type": "stream",
     "text": [
      "Best EN-ES: mbart50_opus_en_es/checkpoint-1000\n"
     ]
    },
    {
     "data": {
      "text/plain": [
       "'/notebooks/notebooks/best_mbart50_en_es.zip'"
      ]
     },
     "execution_count": 9,
     "metadata": {},
     "output_type": "execute_result"
    }
   ],
   "source": [
    "import shutil\n",
    "import os\n",
    "\n",
    "# EN-ES best\n",
    "best_es = trainer_es.state.best_model_checkpoint\n",
    "print(\"Best EN-ES:\", best_es)\n",
    "shutil.make_archive(\"best_mbart50_en_es\", \"zip\", best_es)  # creates best_mbart50_en_es.zip"
   ]
  },
  {
   "cell_type": "code",
   "execution_count": null,
   "id": "5638d8e0-c2dd-4d16-a69e-85262df6cabd",
   "metadata": {
    "tags": []
   },
   "outputs": [],
   "source": [
    "data_collator_vi = DataCollatorForSeq2Seq(tokenizer_vi, model=model_vi)\n",
    "training_args_vi = Seq2SeqTrainingArguments(\n",
    "    output_dir=\"mbart50_opus_en_vi\",\n",
    "    num_train_epochs=5,\n",
    "    per_device_train_batch_size=4,\n",
    "    per_device_eval_batch_size=4,\n",
    "    learning_rate=3e-5,\n",
    "    evaluation_strategy=\"steps\",\n",
    "    eval_steps=500,\n",
    "    save_strategy=\"steps\",\n",
    "    save_steps=500,\n",
    "    save_total_limit=3,\n",
    "    load_best_model_at_end=True,\n",
    "    metric_for_best_model=\"bertscore_f1\",\n",
    "    greater_is_better=True,\n",
    "    logging_steps=200,\n",
    "    predict_with_generate=True,\n",
    "    fp16=True,\n",
    "    report_to=\"none\",\n",
    ")\n",
    "\n",
    "trainer_vi = Seq2SeqTrainer(\n",
    "    model=model_vi,\n",
    "    args=training_args_vi,\n",
    "    train_dataset=tokenized_vi_train,\n",
    "    eval_dataset=tokenized_vi_val,\n",
    "    tokenizer=tokenizer_vi,\n",
    "    data_collator=data_collator_vi,\n",
    "    compute_metrics=make_bertscore_fn(tokenizer_vi, \"vi\"),\n",
    "    callbacks=[EarlyStoppingCallback(early_stopping_patience=2)],\n",
    ")\n",
    "\n",
    "trainer_vi.train()"
   ]
  },
  {
   "cell_type": "code",
   "execution_count": null,
   "id": "1f6588eb-4538-406e-9dcc-e7d069f71a5e",
   "metadata": {
    "tags": []
   },
   "outputs": [],
   "source": [
    "import shutil\n",
    "import os\n",
    "\n",
    "# EN-ES best\n",
    "best_es = trainer_es.state.best_model_checkpoint\n",
    "print(\"Best EN-ES:\", best_es)\n",
    "shutil.make_archive(\"best_mbart50_en_es\", \"zip\", best_es)  # creates best_mbart50_en_es.zip\n",
    "\n",
    "# EN-VI best\n",
    "best_vi = trainer_vi.state.best_model_checkpoint\n",
    "print(\"Best EN-VI:\", best_vi)\n",
    "shutil.make_archive(\"best_mbart50_en_vi\", \"zip\", best_vi)  # creates best_mbart50_en_vi.zip"
   ]
  },
  {
   "cell_type": "code",
   "execution_count": null,
   "id": "42940c06-2c07-4d54-b983-c8424506dea4",
   "metadata": {},
   "outputs": [],
   "source": []
  },
  {
   "cell_type": "code",
   "execution_count": null,
   "id": "af1b5051-5a9b-489c-9c70-06def6435147",
   "metadata": {},
   "outputs": [],
   "source": []
  },
  {
   "cell_type": "code",
   "execution_count": null,
   "id": "809a82b3-5ac8-4391-ab38-3754388bf250",
   "metadata": {
    "tags": []
   },
   "outputs": [],
   "source": [
    "# from transformers import Seq2SeqTrainer, Seq2SeqTrainingArguments\n",
    "# import numpy as np\n",
    "# from transformers import EarlyStoppingCallback, Seq2SeqTrainer\n",
    "\n",
    "\n",
    "# # This will stop training if the 'loss' hasn't improved for 3 evaluation runs\n",
    "# early_stopping = EarlyStoppingCallback(early_stopping_patience=3)\n",
    "\n",
    "# training_args = Seq2SeqTrainingArguments(\n",
    "#     output_dir=\"mbart50_en_vi_opus100\",\n",
    "#     #evaluation_strategy=\"epoch\",\n",
    "#     save_strategy=\"epoch\",\n",
    "#     learning_rate=5e-5,\n",
    "#     per_device_train_batch_size=4,\n",
    "#     per_device_eval_batch_size=4,\n",
    "#     num_train_epochs=3,\n",
    "#     weight_decay=0.01,\n",
    "#     predict_with_generate=True,\n",
    "#     fp16=True,\n",
    "#     logging_steps=10,\n",
    "#     save_total_limit=2,\n",
    "#     callbacks = [early_stopping]\n",
    "# )\n",
    "\n",
    "# data_collator = DataCollatorForSeq2Seq(tokenizer, model=model)"
   ]
  },
  {
   "cell_type": "code",
   "execution_count": null,
   "id": "5af56c68-c66c-4c43-b6ec-2b18ab1028e5",
   "metadata": {
    "tags": []
   },
   "outputs": [],
   "source": [
    "# import torch\n",
    "# from bert_score import score\n",
    "\n",
    "# # Assumes tokenizer already defined (e.g., MBart50TokenizerFast) and model outputs are token IDs\n",
    "\n",
    "# def compute_metrics_bertscore(eval_pred):\n",
    "#     preds, labels = eval_pred  # raw token IDs\n",
    "#     # Decode to text\n",
    "#     decoded_preds = tokenizer.batch_decode(preds, skip_special_tokens=True)\n",
    "#     # Replace -100 in labels as padding placeholder\n",
    "#     import numpy as np\n",
    "#     labels = np.where(labels != -100, labels, tokenizer.pad_token_id)\n",
    "#     decoded_labels = tokenizer.batch_decode(labels, skip_special_tokens=True)\n",
    "\n",
    "#     # Compute BERTScore; specify language for multilingual (use 'en' for English reference if evaluating EN->VI, etc.)\n",
    "#     P, R, F1 = score(decoded_preds, decoded_labels, lang=\"vi\" if tokenizer.tgt_lang.startswith(\"vi\") else \"es\", verbose=False, device=\"cuda\" if torch.cuda.is_available() else \"cpu\")\n",
    "#     # Return average F1 as the main metric\n",
    "#     return {\n",
    "#         \"bertscore_f1\": F1.mean().item(),\n",
    "#         \"bertscore_precision\": P.mean().item(),\n",
    "#         \"bertscore_recall\": R.mean().item(),\n",
    "#     }"
   ]
  },
  {
   "cell_type": "code",
   "execution_count": null,
   "id": "31a3f5c7-1784-4a79-82d3-9808234434fd",
   "metadata": {
    "tags": []
   },
   "outputs": [],
   "source": [
    "# trainer = Seq2SeqTrainer(\n",
    "#     model=model,\n",
    "#     args=training_args,\n",
    "#     train_dataset=tokenized_train,\n",
    "#     eval_dataset=tokenized_val,\n",
    "#     tokenizer=tokenizer,\n",
    "#     data_collator=data_collator,\n",
    "#     compute_metrics=compute_metrics_bertscore,\n",
    "# )"
   ]
  },
  {
   "cell_type": "code",
   "execution_count": null,
   "id": "c4d52c6a-168b-4701-824b-5bf49ba91cc6",
   "metadata": {
    "tags": []
   },
   "outputs": [],
   "source": [
    "import torch\n",
    "\n",
    "if torch.cuda.is_available():\n",
    "    print(f\"✅ GPU is available and ready!\")\n",
    "    print(f\"Device: {torch.cuda.get_device_name(0)}\")\n",
    "else:\n",
    "    print(\"❌ GPU is NOT available. Training is running on the CPU.\")"
   ]
  },
  {
   "cell_type": "code",
   "execution_count": null,
   "id": "e88e2e0b-0d0b-418f-9851-d05cd51abc48",
   "metadata": {
    "tags": []
   },
   "outputs": [],
   "source": [
    "trainer.train()"
   ]
  },
  {
   "cell_type": "code",
   "execution_count": null,
   "id": "5756b6d1-33ae-4eaa-a34a-a203317e0eb4",
   "metadata": {
    "tags": []
   },
   "outputs": [],
   "source": [
    "final_model_path = \"/notebooks/my-final-mbart-model\"\n",
    "\n",
    "# 2. Use the trainer to save the model's weights and configuration\n",
    "trainer.save_model(final_model_path)\n",
    "\n",
    "# 3. IMPORTANT: You must also save the tokenizer with the model\n",
    "tokenizer.save_pretrained(final_model_path)\n",
    "\n",
    "print(f\"✅ Final model and tokenizer saved to: {final_model_path}\")"
   ]
  },
  {
   "cell_type": "code",
   "execution_count": null,
   "id": "7c30eb6e-0870-4276-a228-922183a15865",
   "metadata": {},
   "outputs": [],
   "source": []
  }
 ],
 "metadata": {
  "kernelspec": {
   "display_name": "Python 3 (ipykernel)",
   "language": "python",
   "name": "python3"
  },
  "language_info": {
   "codemirror_mode": {
    "name": "ipython",
    "version": 3
   },
   "file_extension": ".py",
   "mimetype": "text/x-python",
   "name": "python",
   "nbconvert_exporter": "python",
   "pygments_lexer": "ipython3",
   "version": "3.11.7"
  }
 },
 "nbformat": 4,
 "nbformat_minor": 5
}
