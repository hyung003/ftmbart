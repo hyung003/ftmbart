{
 "cells": [
  {
   "cell_type": "code",
   "execution_count": 1,
   "id": "973e19a9-5f04-4531-8431-4019c837e51e",
   "metadata": {
    "execution": {
     "iopub.execute_input": "2025-08-14T19:10:21.556467Z",
     "iopub.status.busy": "2025-08-14T19:10:21.555538Z",
     "iopub.status.idle": "2025-08-14T19:10:25.077464Z",
     "shell.execute_reply": "2025-08-14T19:10:25.076367Z",
     "shell.execute_reply.started": "2025-08-14T19:10:21.556430Z"
    }
   },
   "outputs": [
    {
     "name": "stdout",
     "output_type": "stream",
     "text": [
      "Requirement already satisfied: bert_score in /usr/local/lib/python3.11/dist-packages (0.3.13)\n",
      "Requirement already satisfied: torch>=1.0.0 in /usr/local/lib/python3.11/dist-packages (from bert_score) (2.1.1+cu121)\n",
      "Requirement already satisfied: pandas>=1.0.1 in /usr/local/lib/python3.11/dist-packages (from bert_score) (2.2.0)\n",
      "Requirement already satisfied: transformers>=3.0.0 in /usr/local/lib/python3.11/dist-packages (from bert_score) (4.35.2)\n",
      "Requirement already satisfied: numpy in /usr/local/lib/python3.11/dist-packages (from bert_score) (1.26.3)\n",
      "Requirement already satisfied: requests in /usr/local/lib/python3.11/dist-packages (from bert_score) (2.31.0)\n",
      "Requirement already satisfied: tqdm>=4.31.1 in /usr/local/lib/python3.11/dist-packages (from bert_score) (4.66.1)\n",
      "Requirement already satisfied: matplotlib in /usr/local/lib/python3.11/dist-packages (from bert_score) (3.7.3)\n",
      "Requirement already satisfied: packaging>=20.9 in /usr/local/lib/python3.11/dist-packages (from bert_score) (23.2)\n",
      "Requirement already satisfied: python-dateutil>=2.8.2 in /usr/local/lib/python3.11/dist-packages (from pandas>=1.0.1->bert_score) (2.8.2)\n",
      "Requirement already satisfied: pytz>=2020.1 in /usr/lib/python3/dist-packages (from pandas>=1.0.1->bert_score) (2022.1)\n",
      "Requirement already satisfied: tzdata>=2022.7 in /usr/local/lib/python3.11/dist-packages (from pandas>=1.0.1->bert_score) (2023.4)\n",
      "Requirement already satisfied: filelock in /usr/local/lib/python3.11/dist-packages (from torch>=1.0.0->bert_score) (3.13.1)\n",
      "Requirement already satisfied: typing-extensions in /usr/local/lib/python3.11/dist-packages (from torch>=1.0.0->bert_score) (4.9.0)\n",
      "Requirement already satisfied: sympy in /usr/local/lib/python3.11/dist-packages (from torch>=1.0.0->bert_score) (1.12)\n",
      "Requirement already satisfied: networkx in /usr/local/lib/python3.11/dist-packages (from torch>=1.0.0->bert_score) (3.2.1)\n",
      "Requirement already satisfied: jinja2 in /usr/local/lib/python3.11/dist-packages (from torch>=1.0.0->bert_score) (3.1.3)\n",
      "Requirement already satisfied: fsspec in /usr/local/lib/python3.11/dist-packages (from torch>=1.0.0->bert_score) (2023.6.0)\n",
      "Requirement already satisfied: triton==2.1.0 in /usr/local/lib/python3.11/dist-packages (from torch>=1.0.0->bert_score) (2.1.0)\n",
      "Requirement already satisfied: huggingface-hub<1.0,>=0.16.4 in /usr/local/lib/python3.11/dist-packages (from transformers>=3.0.0->bert_score) (0.20.3)\n",
      "Requirement already satisfied: pyyaml>=5.1 in /usr/lib/python3/dist-packages (from transformers>=3.0.0->bert_score) (5.4.1)\n",
      "Requirement already satisfied: regex!=2019.12.17 in /usr/local/lib/python3.11/dist-packages (from transformers>=3.0.0->bert_score) (2023.12.25)\n",
      "Requirement already satisfied: tokenizers<0.19,>=0.14 in /usr/local/lib/python3.11/dist-packages (from transformers>=3.0.0->bert_score) (0.15.1)\n",
      "Requirement already satisfied: safetensors>=0.3.1 in /usr/local/lib/python3.11/dist-packages (from transformers>=3.0.0->bert_score) (0.4.0)\n",
      "Requirement already satisfied: contourpy>=1.0.1 in /usr/local/lib/python3.11/dist-packages (from matplotlib->bert_score) (1.2.0)\n",
      "Requirement already satisfied: cycler>=0.10 in /usr/local/lib/python3.11/dist-packages (from matplotlib->bert_score) (0.12.1)\n",
      "Requirement already satisfied: fonttools>=4.22.0 in /usr/local/lib/python3.11/dist-packages (from matplotlib->bert_score) (4.47.2)\n",
      "Requirement already satisfied: kiwisolver>=1.0.1 in /usr/local/lib/python3.11/dist-packages (from matplotlib->bert_score) (1.4.5)\n",
      "Requirement already satisfied: pillow>=6.2.0 in /usr/local/lib/python3.11/dist-packages (from matplotlib->bert_score) (9.5.0)\n",
      "Requirement already satisfied: pyparsing>=2.3.1 in /usr/lib/python3/dist-packages (from matplotlib->bert_score) (2.4.7)\n",
      "Requirement already satisfied: charset-normalizer<4,>=2 in /usr/local/lib/python3.11/dist-packages (from requests->bert_score) (3.3.2)\n",
      "Requirement already satisfied: idna<4,>=2.5 in /usr/lib/python3/dist-packages (from requests->bert_score) (3.3)\n",
      "Requirement already satisfied: urllib3<3,>=1.21.1 in /usr/local/lib/python3.11/dist-packages (from requests->bert_score) (2.0.7)\n",
      "Requirement already satisfied: certifi>=2017.4.17 in /usr/lib/python3/dist-packages (from requests->bert_score) (2020.6.20)\n",
      "Requirement already satisfied: six>=1.5 in /usr/lib/python3/dist-packages (from python-dateutil>=2.8.2->pandas>=1.0.1->bert_score) (1.16.0)\n",
      "Requirement already satisfied: MarkupSafe>=2.0 in /usr/local/lib/python3.11/dist-packages (from jinja2->torch>=1.0.0->bert_score) (2.1.4)\n",
      "Requirement already satisfied: mpmath>=0.19 in /usr/local/lib/python3.11/dist-packages (from sympy->torch>=1.0.0->bert_score) (1.3.0)\n",
      "\u001b[33mWARNING: Running pip as the 'root' user can result in broken permissions and conflicting behaviour with the system package manager. It is recommended to use a virtual environment instead: https://pip.pypa.io/warnings/venv\u001b[0m\u001b[33m\n",
      "\u001b[0m"
     ]
    }
   ],
   "source": [
    "!pip install bert_score"
   ]
  },
  {
   "cell_type": "code",
   "execution_count": 2,
   "id": "6f0a23dc-c444-4d3a-aa73-ecd2b4e68a66",
   "metadata": {
    "execution": {
     "iopub.execute_input": "2025-08-14T19:10:25.080600Z",
     "iopub.status.busy": "2025-08-14T19:10:25.079663Z",
     "iopub.status.idle": "2025-08-14T21:05:28.654532Z",
     "shell.execute_reply": "2025-08-14T21:05:28.653593Z",
     "shell.execute_reply.started": "2025-08-14T19:10:25.080564Z"
    },
    "tags": []
   },
   "outputs": [
    {
     "name": "stderr",
     "output_type": "stream",
     "text": [
      "2025-08-14 19:10:29.220512: E external/local_xla/xla/stream_executor/cuda/cuda_dnn.cc:9261] Unable to register cuDNN factory: Attempting to register factory for plugin cuDNN when one has already been registered\n",
      "2025-08-14 19:10:29.220580: E external/local_xla/xla/stream_executor/cuda/cuda_fft.cc:607] Unable to register cuFFT factory: Attempting to register factory for plugin cuFFT when one has already been registered\n",
      "2025-08-14 19:10:29.222104: E external/local_xla/xla/stream_executor/cuda/cuda_blas.cc:1515] Unable to register cuBLAS factory: Attempting to register factory for plugin cuBLAS when one has already been registered\n",
      "2025-08-14 19:10:29.230529: I tensorflow/core/platform/cpu_feature_guard.cc:182] This TensorFlow binary is optimized to use available CPU instructions in performance-critical operations.\n",
      "To enable the following instructions: AVX2 FMA, in other operations, rebuild TensorFlow with the appropriate compiler flags.\n",
      "2025-08-14 19:10:30.569807: W tensorflow/compiler/tf2tensorrt/utils/py_utils.cc:38] TF-TRT Warning: Could not find TensorRT\n"
     ]
    },
    {
     "name": "stdout",
     "output_type": "stream",
     "text": [
      "✅ CUDA available: Quadro RTX 4000\n"
     ]
    },
    {
     "data": {
      "application/vnd.jupyter.widget-view+json": {
       "model_id": "ce6156afdc3b4bbba2471ced90e539ed",
       "version_major": 2,
       "version_minor": 0
      },
      "text/plain": [
       "Downloading readme: 0.00B [00:00, ?B/s]"
      ]
     },
     "metadata": {},
     "output_type": "display_data"
    },
    {
     "data": {
      "application/vnd.jupyter.widget-view+json": {
       "model_id": "82e20215e24342cb8aaeb923db536103",
       "version_major": 2,
       "version_minor": 0
      },
      "text/plain": [
       "Downloading data files:   0%|          | 0/3 [00:00<?, ?it/s]"
      ]
     },
     "metadata": {},
     "output_type": "display_data"
    },
    {
     "data": {
      "application/vnd.jupyter.widget-view+json": {
       "model_id": "3b10791f3e1848a6b7088ca4d8bbcc7d",
       "version_major": 2,
       "version_minor": 0
      },
      "text/plain": [
       "Downloading data:   0%|          | 0.00/237k [00:00<?, ?B/s]"
      ]
     },
     "metadata": {},
     "output_type": "display_data"
    },
    {
     "data": {
      "application/vnd.jupyter.widget-view+json": {
       "model_id": "dc645c03008f459398cf7c4a6b271fd0",
       "version_major": 2,
       "version_minor": 0
      },
      "text/plain": [
       "Downloading data:   0%|          | 0.00/99.6M [00:00<?, ?B/s]"
      ]
     },
     "metadata": {},
     "output_type": "display_data"
    },
    {
     "data": {
      "application/vnd.jupyter.widget-view+json": {
       "model_id": "d6a90f2fa4cf4fe89b93801d00d71bd7",
       "version_major": 2,
       "version_minor": 0
      },
      "text/plain": [
       "Downloading data:   0%|          | 0.00/238k [00:00<?, ?B/s]"
      ]
     },
     "metadata": {},
     "output_type": "display_data"
    },
    {
     "data": {
      "application/vnd.jupyter.widget-view+json": {
       "model_id": "53209037be8f4ea59a9d97df89fee944",
       "version_major": 2,
       "version_minor": 0
      },
      "text/plain": [
       "Extracting data files:   0%|          | 0/3 [00:00<?, ?it/s]"
      ]
     },
     "metadata": {},
     "output_type": "display_data"
    },
    {
     "data": {
      "application/vnd.jupyter.widget-view+json": {
       "model_id": "3ee7e8a00da34bf89821f9a0c48de44f",
       "version_major": 2,
       "version_minor": 0
      },
      "text/plain": [
       "Generating test split:   0%|          | 0/2000 [00:00<?, ? examples/s]"
      ]
     },
     "metadata": {},
     "output_type": "display_data"
    },
    {
     "data": {
      "application/vnd.jupyter.widget-view+json": {
       "model_id": "4d463f3e43fc4fe3af301fa61fa58325",
       "version_major": 2,
       "version_minor": 0
      },
      "text/plain": [
       "Generating train split:   0%|          | 0/1000000 [00:00<?, ? examples/s]"
      ]
     },
     "metadata": {},
     "output_type": "display_data"
    },
    {
     "data": {
      "application/vnd.jupyter.widget-view+json": {
       "model_id": "223be53153624bfb9659581a273f331d",
       "version_major": 2,
       "version_minor": 0
      },
      "text/plain": [
       "Generating validation split:   0%|          | 0/2000 [00:00<?, ? examples/s]"
      ]
     },
     "metadata": {},
     "output_type": "display_data"
    },
    {
     "name": "stdout",
     "output_type": "stream",
     "text": [
      "EN-ES: train=5000 val=1000\n"
     ]
    },
    {
     "data": {
      "application/vnd.jupyter.widget-view+json": {
       "model_id": "a23563d571f04c539a05d40f139f6c1c",
       "version_major": 2,
       "version_minor": 0
      },
      "text/plain": [
       "tokenizer_config.json:   0%|          | 0.00/531 [00:00<?, ?B/s]"
      ]
     },
     "metadata": {},
     "output_type": "display_data"
    },
    {
     "data": {
      "application/vnd.jupyter.widget-view+json": {
       "model_id": "4612d21531774b539fd0ba6e8c5e3a08",
       "version_major": 2,
       "version_minor": 0
      },
      "text/plain": [
       "sentencepiece.bpe.model:   0%|          | 0.00/5.07M [00:00<?, ?B/s]"
      ]
     },
     "metadata": {},
     "output_type": "display_data"
    },
    {
     "data": {
      "application/vnd.jupyter.widget-view+json": {
       "model_id": "128bbcb0acd64ecf8835c18ef7be2e72",
       "version_major": 2,
       "version_minor": 0
      },
      "text/plain": [
       "special_tokens_map.json:   0%|          | 0.00/649 [00:00<?, ?B/s]"
      ]
     },
     "metadata": {},
     "output_type": "display_data"
    },
    {
     "data": {
      "application/vnd.jupyter.widget-view+json": {
       "model_id": "9d6c19c18dc044f8bab0abce565c51d9",
       "version_major": 2,
       "version_minor": 0
      },
      "text/plain": [
       "config.json: 0.00B [00:00, ?B/s]"
      ]
     },
     "metadata": {},
     "output_type": "display_data"
    },
    {
     "data": {
      "application/vnd.jupyter.widget-view+json": {
       "model_id": "e3bb7aec94db4161b59638a3675535e0",
       "version_major": 2,
       "version_minor": 0
      },
      "text/plain": [
       "pytorch_model.bin:   0%|          | 0.00/2.44G [00:00<?, ?B/s]"
      ]
     },
     "metadata": {},
     "output_type": "display_data"
    },
    {
     "data": {
      "application/vnd.jupyter.widget-view+json": {
       "model_id": "3a08b5f0a5d341adb645261085505d3d",
       "version_major": 2,
       "version_minor": 0
      },
      "text/plain": [
       "generation_config.json:   0%|          | 0.00/261 [00:00<?, ?B/s]"
      ]
     },
     "metadata": {},
     "output_type": "display_data"
    },
    {
     "data": {
      "application/vnd.jupyter.widget-view+json": {
       "model_id": "696f035d2068439ab887df0588b3bac8",
       "version_major": 2,
       "version_minor": 0
      },
      "text/plain": [
       "Map:   0%|          | 0/5000 [00:00<?, ? examples/s]"
      ]
     },
     "metadata": {},
     "output_type": "display_data"
    },
    {
     "data": {
      "application/vnd.jupyter.widget-view+json": {
       "model_id": "800d872ef73c43dcbdb45749ab2bdadc",
       "version_major": 2,
       "version_minor": 0
      },
      "text/plain": [
       "Map:   0%|          | 0/1000 [00:00<?, ? examples/s]"
      ]
     },
     "metadata": {},
     "output_type": "display_data"
    },
    {
     "name": "stdout",
     "output_type": "stream",
     "text": [
      "🚀 Training EN→ES ...\n"
     ]
    },
    {
     "name": "stderr",
     "output_type": "stream",
     "text": [
      "You're using a MBart50TokenizerFast tokenizer. Please note that with a fast tokenizer, using the `__call__` method is faster than using a method to encode the text followed by a call to the `pad` method to get a padded encoding.\n"
     ]
    },
    {
     "data": {
      "text/html": [
       "\n",
       "    <div>\n",
       "      \n",
       "      <progress value='1500' max='1875' style='width:300px; height:20px; vertical-align: middle;'></progress>\n",
       "      [1500/1875 1:52:57 < 28:16, 0.22 it/s, Epoch 2/3]\n",
       "    </div>\n",
       "    <table border=\"1\" class=\"dataframe\">\n",
       "  <thead>\n",
       " <tr style=\"text-align: left;\">\n",
       "      <th>Step</th>\n",
       "      <th>Training Loss</th>\n",
       "      <th>Validation Loss</th>\n",
       "      <th>Bertscore F1</th>\n",
       "      <th>Bertscore Precision</th>\n",
       "      <th>Bertscore Recall</th>\n",
       "    </tr>\n",
       "  </thead>\n",
       "  <tbody>\n",
       "    <tr>\n",
       "      <td>300</td>\n",
       "      <td>3.406500</td>\n",
       "      <td>1.835719</td>\n",
       "      <td>0.833806</td>\n",
       "      <td>0.842518</td>\n",
       "      <td>0.826207</td>\n",
       "    </tr>\n",
       "    <tr>\n",
       "      <td>600</td>\n",
       "      <td>1.852500</td>\n",
       "      <td>1.668589</td>\n",
       "      <td>0.842682</td>\n",
       "      <td>0.849811</td>\n",
       "      <td>0.836480</td>\n",
       "    </tr>\n",
       "    <tr>\n",
       "      <td>900</td>\n",
       "      <td>1.259700</td>\n",
       "      <td>1.638796</td>\n",
       "      <td>0.846448</td>\n",
       "      <td>0.851050</td>\n",
       "      <td>0.842609</td>\n",
       "    </tr>\n",
       "    <tr>\n",
       "      <td>1200</td>\n",
       "      <td>1.242400</td>\n",
       "      <td>1.646887</td>\n",
       "      <td>0.846144</td>\n",
       "      <td>0.852111</td>\n",
       "      <td>0.841018</td>\n",
       "    </tr>\n",
       "    <tr>\n",
       "      <td>1500</td>\n",
       "      <td>0.845200</td>\n",
       "      <td>1.757743</td>\n",
       "      <td>0.845749</td>\n",
       "      <td>0.848992</td>\n",
       "      <td>0.843239</td>\n",
       "    </tr>\n",
       "  </tbody>\n",
       "</table><p>"
      ],
      "text/plain": [
       "<IPython.core.display.HTML object>"
      ]
     },
     "metadata": {},
     "output_type": "display_data"
    },
    {
     "name": "stderr",
     "output_type": "stream",
     "text": [
      "/usr/local/lib/python3.11/dist-packages/transformers/generation/utils.py:1473: UserWarning: You have modified the pretrained model configuration to control generation. This is a deprecated strategy to control generation and will be removed soon, in a future version. Please use and modify the model generation configuration (see https://huggingface.co/docs/transformers/generation_strategies#default-text-generation-configuration )\n",
      "  warnings.warn(\n"
     ]
    },
    {
     "data": {
      "application/vnd.jupyter.widget-view+json": {
       "model_id": "c192928fdceb4b70a31ae90af2bfb731",
       "version_major": 2,
       "version_minor": 0
      },
      "text/plain": [
       "tokenizer_config.json:   0%|          | 0.00/49.0 [00:00<?, ?B/s]"
      ]
     },
     "metadata": {},
     "output_type": "display_data"
    },
    {
     "data": {
      "application/vnd.jupyter.widget-view+json": {
       "model_id": "e6c509ba6a8049c697315ffa297940ae",
       "version_major": 2,
       "version_minor": 0
      },
      "text/plain": [
       "config.json:   0%|          | 0.00/625 [00:00<?, ?B/s]"
      ]
     },
     "metadata": {},
     "output_type": "display_data"
    },
    {
     "data": {
      "application/vnd.jupyter.widget-view+json": {
       "model_id": "106e111f5fbd4d069358c21448e7d443",
       "version_major": 2,
       "version_minor": 0
      },
      "text/plain": [
       "vocab.txt:   0%|          | 0.00/996k [00:00<?, ?B/s]"
      ]
     },
     "metadata": {},
     "output_type": "display_data"
    },
    {
     "data": {
      "application/vnd.jupyter.widget-view+json": {
       "model_id": "f8b492433f394a8e869182ea0f19c52b",
       "version_major": 2,
       "version_minor": 0
      },
      "text/plain": [
       "tokenizer.json:   0%|          | 0.00/1.96M [00:00<?, ?B/s]"
      ]
     },
     "metadata": {},
     "output_type": "display_data"
    },
    {
     "data": {
      "application/vnd.jupyter.widget-view+json": {
       "model_id": "4171698d0b1045218f1336bb21ef6c84",
       "version_major": 2,
       "version_minor": 0
      },
      "text/plain": [
       "model.safetensors:   0%|          | 0.00/714M [00:00<?, ?B/s]"
      ]
     },
     "metadata": {},
     "output_type": "display_data"
    },
    {
     "name": "stderr",
     "output_type": "stream",
     "text": [
      "There were missing keys in the checkpoint model loaded: ['model.encoder.embed_tokens.weight', 'model.decoder.embed_tokens.weight', 'lm_head.weight'].\n"
     ]
    },
    {
     "name": "stdout",
     "output_type": "stream",
     "text": [
      "TrainOutput(global_step=1500, training_loss=1.7212730000813803, metrics={'train_runtime': 6780.0517, 'train_samples_per_second': 2.212, 'train_steps_per_second': 0.277, 'total_flos': 437700955668480.0, 'train_loss': 1.7212730000813803, 'epoch': 2.4})\n",
      "✅ Best EN-ES checkpoint: mbart50_opus_en_es/checkpoint-900\n"
     ]
    }
   ],
   "source": [
    "# --- EN→ES fine-tuning on ~8GB GPU -------------------\n",
    "\n",
    "import os\n",
    "os.environ[\"PYTORCH_CUDA_ALLOC_CONF\"] = \"max_split_size_mb:128\"\n",
    "\n",
    "import numpy as np\n",
    "import torch\n",
    "from datasets import load_dataset\n",
    "from transformers import (\n",
    "    MBartForConditionalGeneration,\n",
    "    MBart50TokenizerFast,\n",
    "    Seq2SeqTrainer,\n",
    "    Seq2SeqTrainingArguments,\n",
    "    DataCollatorForSeq2Seq,\n",
    "    EarlyStoppingCallback,\n",
    "    set_seed,\n",
    ")\n",
    "\n",
    "set_seed(42)\n",
    "MAX_LEN = 128\n",
    "\n",
    "# BERTScore import \n",
    "try:\n",
    "    from bert_score import score as bertscore_fn\n",
    "except Exception:\n",
    "    import sys, subprocess\n",
    "    subprocess.check_call([sys.executable, \"-m\", \"pip\", \"install\", \"bert_score\"])\n",
    "    from bert_score import score as bertscore_fn\n",
    "\n",
    "# print device info\n",
    "if torch.cuda.is_available():\n",
    "    print(\"✅ CUDA available:\", torch.cuda.get_device_name(0))\n",
    "else:\n",
    "    print(\"⚠️ CUDA not available; running on CPU.\")\n",
    "\n",
    "# ---------------- Data: OPUS100 en-es, sample 5k/1k ----------------\n",
    "ds_en_es = load_dataset(\"opus100\", \"en-es\")\n",
    "\n",
    "def small_split(ds, train_n=5000, val_n=1000, seed=42):\n",
    "    train_full = ds[\"train\"].shuffle(seed=seed)\n",
    "    n = min(train_n + val_n, len(train_full))\n",
    "    selected = train_full.select(range(n))\n",
    "    train = selected.select(range(min(train_n, len(selected))))\n",
    "    val_start = min(train_n, len(selected))\n",
    "    val_end = min(train_n + val_n, len(selected))\n",
    "    val = selected.select(range(val_start, val_end))\n",
    "    return train, val\n",
    "\n",
    "es_train, es_val = small_split(ds_en_es)\n",
    "print(f\"EN-ES: train={len(es_train)} val={len(es_val)}\")\n",
    "\n",
    "# ---------------- Model & tokenizer (mBART-50) ----------------\n",
    "MODEL_NAME = \"facebook/mbart-large-50\"\n",
    "\n",
    "tokenizer_es = MBart50TokenizerFast.from_pretrained(MODEL_NAME)\n",
    "model_es = MBartForConditionalGeneration.from_pretrained(MODEL_NAME)\n",
    "tokenizer_es.src_lang = \"en_XX\"\n",
    "tokenizer_es.tgt_lang = \"es_XX\"\n",
    "model_es.config.forced_bos_token_id = tokenizer_es.lang_code_to_id[\"es_XX\"]\n",
    "\n",
    "\n",
    "model_es.config.use_cache = False\n",
    "# ✅ Same behavior as your call, but explicit variant to silence the warning\n",
    "model_es.gradient_checkpointing_enable(gradient_checkpointing_kwargs={\"use_reentrant\": False})\n",
    "\n",
    "def preprocess_pair(dataset, src_key, tgt_key, tokenizer):\n",
    "    def fn(batch):\n",
    "        srcs = [t[src_key] for t in batch[\"translation\"]]\n",
    "        tgts = [t[tgt_key] for t in batch[\"translation\"]]\n",
    "\n",
    "        inputs = tokenizer(srcs, max_length=MAX_LEN, truncation=True)\n",
    "        try:\n",
    "            labels = tokenizer(text_target=tgts, max_length=MAX_LEN, truncation=True)\n",
    "        except TypeError:\n",
    "            with tokenizer.as_target_tokenizer():\n",
    "                labels = tokenizer(tgts, max_length=MAX_LEN, truncation=True)\n",
    "\n",
    "        inputs[\"labels\"] = labels[\"input_ids\"]   # collator pads & masks to -100\n",
    "        return inputs\n",
    "\n",
    "    return dataset.map(fn, batched=True, remove_columns=[\"translation\"])\n",
    "\n",
    "tokenized_es_train = preprocess_pair(es_train, \"en\", \"es\", tokenizer_es)\n",
    "tokenized_es_val   = preprocess_pair(es_val,   \"en\", \"es\", tokenizer_es)\n",
    "\n",
    "data_collator_es = DataCollatorForSeq2Seq(tokenizer_es, model=model_es, label_pad_token_id=-100)\n",
    "\n",
    "def make_bertscore_metrics(tokenizer, lang_code_for_bertscore):\n",
    "    device = \"cpu\"  # keep metric on CPU to avoid eval VRAM spikes\n",
    "    def compute_metrics(eval_pred):\n",
    "        preds, labels = eval_pred\n",
    "        if isinstance(preds, tuple):\n",
    "            preds = preds[0]\n",
    "        decoded_preds = tokenizer.batch_decode(preds, skip_special_tokens=True)\n",
    "        labels = np.where(labels != -100, labels, tokenizer.pad_token_id)\n",
    "        decoded_labels = tokenizer.batch_decode(labels, skip_special_tokens=True)\n",
    "        P, R, F1 = bertscore_fn(decoded_preds, decoded_labels,\n",
    "                                lang=lang_code_for_bertscore, device=device, verbose=False)\n",
    "        return {\n",
    "            \"bertscore_f1\": float(F1.mean()),\n",
    "            \"bertscore_precision\": float(P.mean()),\n",
    "            \"bertscore_recall\": float(R.mean()),\n",
    "        }\n",
    "    return compute_metrics\n",
    "\n",
    "# SETTING PRECISION\n",
    "use_bf16 = torch.cuda.is_available() and torch.cuda.get_device_capability(0)[0] >= 8\n",
    "\n",
    "training_args_es = Seq2SeqTrainingArguments(\n",
    "    optim='adafactor',\n",
    "    output_dir=\"mbart50_opus_en_es\",\n",
    "    num_train_epochs=3,\n",
    "    per_device_train_batch_size=1,\n",
    "    per_device_eval_batch_size=1,\n",
    "    gradient_accumulation_steps=8,\n",
    "    eval_accumulation_steps=8,\n",
    "    learning_rate=3e-5,\n",
    "    evaluation_strategy=\"steps\",\n",
    "    eval_steps=300,\n",
    "    save_strategy=\"steps\",\n",
    "    save_steps=300,\n",
    "    load_best_model_at_end=True,\n",
    "    metric_for_best_model=\"bertscore_f1\",\n",
    "    greater_is_better=True,\n",
    "    logging_steps=300,\n",
    "    predict_with_generate=True,\n",
    "    fp16=not use_bf16,\n",
    "    bf16=use_bf16,\n",
    "    report_to=\"none\",\n",
    ")\n",
    "\n",
    "trainer_es = Seq2SeqTrainer(\n",
    "    model=model_es,\n",
    "    args=training_args_es,\n",
    "    train_dataset=tokenized_es_train,\n",
    "    eval_dataset=tokenized_es_val,\n",
    "    tokenizer=tokenizer_es,\n",
    "    data_collator=data_collator_es,\n",
    "    compute_metrics=make_bertscore_metrics(tokenizer_es, \"es\"),\n",
    "    callbacks=[EarlyStoppingCallback(early_stopping_patience=2)],\n",
    ")\n",
    "\n",
    "print(\"🚀 Training EN→ES ...\")\n",
    "es_out = trainer_es.train()\n",
    "print(es_out)\n",
    "best_es = trainer_es.state.best_model_checkpoint\n",
    "print(\"✅ Best EN-ES checkpoint:\", best_es)"
   ]
  },
  {
   "cell_type": "code",
   "execution_count": 3,
   "id": "8f15e3e6-ba4a-453e-a489-dbea28d76159",
   "metadata": {
    "execution": {
     "iopub.execute_input": "2025-08-14T21:05:28.659085Z",
     "iopub.status.busy": "2025-08-14T21:05:28.658865Z",
     "iopub.status.idle": "2025-08-14T21:05:52.384788Z",
     "shell.execute_reply": "2025-08-14T21:05:52.383767Z",
     "shell.execute_reply.started": "2025-08-14T21:05:28.659064Z"
    }
   },
   "outputs": [
    {
     "name": "stdout",
     "output_type": "stream",
     "text": [
      "🔎 Loading model from: mbart50_opus_en_es/checkpoint-900\n",
      "\n",
      "EN: The committee will meet next Tuesday to review the proposal.\n",
      "ES: El comité se reúne el martes para examinar la propuesta.\n",
      "\n",
      "EN: Please submit the signed contract by the end of the week.\n",
      "ES: Por favor, envuélvete el contrato firmado antes del fin de semana.\n",
      "\n",
      "EN: This device requires regular maintenance to function properly.\n",
      "ES: Este dispositivo necesita mantenimiento regular para funcionar correctamente.\n"
     ]
    }
   ],
   "source": [
    "# ---- Inference: EN → ES using the saved fine-tuned model --------------------\n",
    "import torch\n",
    "from transformers import MBartForConditionalGeneration, MBart50TokenizerFast\n",
    "\n",
    "# Find best model in training\n",
    "model_dir = best_es if (isinstance(best_es, str) and len(best_es) > 0) else training_args_es.output_dir\n",
    "print(\"🔎 Loading model from:\", model_dir)\n",
    "\n",
    "# Load tokenizer & model\n",
    "tokenizer_inf = MBart50TokenizerFast.from_pretrained(model_dir)\n",
    "model_inf = MBartForConditionalGeneration.from_pretrained(model_dir)\n",
    "\n",
    "# Language settings for mBART-50 (EN -> ES)\n",
    "tokenizer_inf.src_lang = \"en_XX\"\n",
    "tokenizer_inf.tgt_lang = \"es_XX\"\n",
    "model_inf.config.forced_bos_token_id = tokenizer_inf.lang_code_to_id[\"es_XX\"]\n",
    "\n",
    "# Device\n",
    "device = \"cuda\" if torch.cuda.is_available() else \"cpu\"\n",
    "model_inf.to(device)\n",
    "model_inf.eval()\n",
    "\n",
    "def translate_en_to_es(texts, max_new_tokens=64, max_source_len=128):\n",
    "    \"\"\"\n",
    "    texts: str or List[str] in English\n",
    "    returns: List[str] in Spanish\n",
    "    \"\"\"\n",
    "    if isinstance(texts, str):\n",
    "        texts = [texts]\n",
    "\n",
    "    enc = tokenizer_inf(\n",
    "        texts,\n",
    "        return_tensors=\"pt\",\n",
    "        padding=True,\n",
    "        truncation=True,\n",
    "        max_length=max_source_len,\n",
    "    )\n",
    "    enc = {k: v.to(device) for k, v in enc.items()}\n",
    "\n",
    "    with torch.no_grad():\n",
    "        gen = model_inf.generate(\n",
    "            **enc,\n",
    "            max_new_tokens=max_new_tokens,   # keep modest to avoid VRAM spikes\n",
    "            # num_beams=1  # default is 1; uncomment if you want to be explicit\n",
    "        )\n",
    "\n",
    "    return tokenizer_inf.batch_decode(gen, skip_special_tokens=True)\n",
    "\n",
    "# Quick sanity check\n",
    "examples = [\n",
    "    \"The committee will meet next Tuesday to review the proposal.\",\n",
    "    \"Please submit the signed contract by the end of the week.\",\n",
    "    \"This device requires regular maintenance to function properly.\"\n",
    "]\n",
    "es_out = translate_en_to_es(examples, max_new_tokens=64)\n",
    "for src, tgt in zip(examples, es_out):\n",
    "    print(f\"\\nEN: {src}\\nES: {tgt}\")"
   ]
  }
 ],
 "metadata": {
  "kernelspec": {
   "display_name": "Python 3 (ipykernel)",
   "language": "python",
   "name": "python3"
  },
  "language_info": {
   "codemirror_mode": {
    "name": "ipython",
    "version": 3
   },
   "file_extension": ".py",
   "mimetype": "text/x-python",
   "name": "python",
   "nbconvert_exporter": "python",
   "pygments_lexer": "ipython3",
   "version": "3.11.7"
  }
 },
 "nbformat": 4,
 "nbformat_minor": 5
}
